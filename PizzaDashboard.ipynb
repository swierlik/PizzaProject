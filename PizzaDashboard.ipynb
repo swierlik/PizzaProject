{
 "cells": [
  {
   "cell_type": "code",
   "execution_count": 1,
   "metadata": {},
   "outputs": [],
   "source": [
    "from Orders.OrdersManagement import get_financial_summary, orders_to_pizzas, get_orders_by_status\n",
    "from IPython.display import clear_output\n",
    "import time"
   ]
  },
  {
   "cell_type": "code",
   "execution_count": 2,
   "metadata": {},
   "outputs": [
    {
     "name": "stdout",
     "output_type": "stream",
     "text": [
      "2024-10-14 18:02:36,254 INFO sqlalchemy.engine.Engine SELECT DATABASE()\n",
      "2024-10-14 18:02:36,255 INFO sqlalchemy.engine.Engine [raw sql] {}\n",
      "2024-10-14 18:02:36,256 INFO sqlalchemy.engine.Engine SELECT @@sql_mode\n",
      "2024-10-14 18:02:36,257 INFO sqlalchemy.engine.Engine [raw sql] {}\n",
      "2024-10-14 18:02:36,257 INFO sqlalchemy.engine.Engine SELECT @@lower_case_table_names\n",
      "2024-10-14 18:02:36,257 INFO sqlalchemy.engine.Engine [raw sql] {}\n",
      "2024-10-14 18:02:36,258 INFO sqlalchemy.engine.Engine BEGIN (implicit)\n",
      "2024-10-14 18:02:36,261 INFO sqlalchemy.engine.Engine SELECT orders.`OrderID` AS `orders_OrderID`, orders.`CustomerID` AS `orders_CustomerID`, orders.`OrderDate` AS `orders_OrderDate`, orders.`OrderStatus` AS `orders_OrderStatus`, orders.`EstimatedDeliveryTime` AS `orders_EstimatedDeliveryTime`, orders.`TotalPrice` AS `orders_TotalPrice`, orders.`DiscountApplied` AS `orders_DiscountApplied`, orders.`IsGrouped` AS `orders_IsGrouped`, orders.`DeliveryPersonID` AS `orders_DeliveryPersonID` \n",
      "FROM orders\n",
      "2024-10-14 18:02:36,262 INFO sqlalchemy.engine.Engine [generated in 0.00059s] {}\n",
      "2024-10-14 18:02:36,266 INFO sqlalchemy.engine.Engine BEGIN (implicit)\n",
      "2024-10-14 18:02:36,267 INFO sqlalchemy.engine.Engine SELECT customers.`CustomerID` AS `customers_CustomerID`, customers.`Name` AS `customers_Name`, customers.`Gender` AS `customers_Gender`, customers.`Birthdate` AS `customers_Birthdate`, customers.`PhoneNumber` AS `customers_PhoneNumber`, customers.`Address` AS `customers_Address`, customers.`PostalCode` AS `customers_PostalCode`, customers.`Username` AS `customers_Username`, customers.`Password` AS `customers_Password`, customers.`PizzasOrderedCount` AS `customers_PizzasOrderedCount`, customers.`CreatedAt` AS `customers_CreatedAt`, customers.`IsNext10Discount` AS `customers_IsNext10Discount` \n",
      "FROM customers \n",
      "WHERE customers.`CustomerID` = %(CustomerID_1)s \n",
      " LIMIT %(param_1)s\n",
      "2024-10-14 18:02:36,268 INFO sqlalchemy.engine.Engine [generated in 0.00053s] {'CustomerID_1': 3, 'param_1': 1}\n",
      "2024-10-14 18:02:36,269 INFO sqlalchemy.engine.Engine SELECT customers.`CustomerID` AS `customers_CustomerID`, customers.`Name` AS `customers_Name`, customers.`Gender` AS `customers_Gender`, customers.`Birthdate` AS `customers_Birthdate`, customers.`PhoneNumber` AS `customers_PhoneNumber`, customers.`Address` AS `customers_Address`, customers.`PostalCode` AS `customers_PostalCode`, customers.`Username` AS `customers_Username`, customers.`Password` AS `customers_Password`, customers.`PizzasOrderedCount` AS `customers_PizzasOrderedCount`, customers.`CreatedAt` AS `customers_CreatedAt`, customers.`IsNext10Discount` AS `customers_IsNext10Discount` \n",
      "FROM customers \n",
      "WHERE customers.`CustomerID` = %(CustomerID_1)s \n",
      " LIMIT %(param_1)s\n",
      "2024-10-14 18:02:36,270 INFO sqlalchemy.engine.Engine [cached since 0.002454s ago] {'CustomerID_1': 3, 'param_1': 1}\n",
      "2024-10-14 18:02:36,272 INFO sqlalchemy.engine.Engine SELECT customers.`CustomerID` AS `customers_CustomerID`, customers.`Name` AS `customers_Name`, customers.`Gender` AS `customers_Gender`, customers.`Birthdate` AS `customers_Birthdate`, customers.`PhoneNumber` AS `customers_PhoneNumber`, customers.`Address` AS `customers_Address`, customers.`PostalCode` AS `customers_PostalCode`, customers.`Username` AS `customers_Username`, customers.`Password` AS `customers_Password`, customers.`PizzasOrderedCount` AS `customers_PizzasOrderedCount`, customers.`CreatedAt` AS `customers_CreatedAt`, customers.`IsNext10Discount` AS `customers_IsNext10Discount` \n",
      "FROM customers \n",
      "WHERE customers.`CustomerID` = %(CustomerID_1)s \n",
      " LIMIT %(param_1)s\n",
      "2024-10-14 18:02:36,272 INFO sqlalchemy.engine.Engine [cached since 0.004179s ago] {'CustomerID_1': 3, 'param_1': 1}\n",
      "2024-10-14 18:02:36,273 INFO sqlalchemy.engine.Engine ROLLBACK\n"
     ]
    },
    {
     "data": {
      "text/html": [
       "<div>\n",
       "<style scoped>\n",
       "    .dataframe tbody tr th:only-of-type {\n",
       "        vertical-align: middle;\n",
       "    }\n",
       "\n",
       "    .dataframe tbody tr th {\n",
       "        vertical-align: top;\n",
       "    }\n",
       "\n",
       "    .dataframe thead th {\n",
       "        text-align: right;\n",
       "    }\n",
       "</style>\n",
       "<table border=\"1\" class=\"dataframe\">\n",
       "  <thead>\n",
       "    <tr style=\"text-align: right;\">\n",
       "      <th></th>\n",
       "      <th>OrderID</th>\n",
       "      <th>OrderDate</th>\n",
       "      <th>EstimatedDeliveryTime</th>\n",
       "      <th>DiscountApplied</th>\n",
       "      <th>DeliveryPersonID</th>\n",
       "      <th>CustomerID</th>\n",
       "      <th>OrderStatus</th>\n",
       "      <th>TotalPrice</th>\n",
       "      <th>IsGrouped</th>\n",
       "    </tr>\n",
       "  </thead>\n",
       "  <tbody>\n",
       "    <tr>\n",
       "      <th>0</th>\n",
       "      <td>1</td>\n",
       "      <td>2024-10-14 18:01:10</td>\n",
       "      <td>2024-10-14 18:45:10</td>\n",
       "      <td>False</td>\n",
       "      <td>None</td>\n",
       "      <td>3</td>\n",
       "      <td>Pending</td>\n",
       "      <td>109.92</td>\n",
       "      <td>False</td>\n",
       "    </tr>\n",
       "    <tr>\n",
       "      <th>1</th>\n",
       "      <td>2</td>\n",
       "      <td>2024-10-14 18:02:04</td>\n",
       "      <td>2024-10-14 18:46:04</td>\n",
       "      <td>True</td>\n",
       "      <td>None</td>\n",
       "      <td>3</td>\n",
       "      <td>Pending</td>\n",
       "      <td>230.69</td>\n",
       "      <td>False</td>\n",
       "    </tr>\n",
       "    <tr>\n",
       "      <th>2</th>\n",
       "      <td>3</td>\n",
       "      <td>2024-10-14 18:02:10</td>\n",
       "      <td>2024-10-14 22:04:10</td>\n",
       "      <td>True</td>\n",
       "      <td>None</td>\n",
       "      <td>3</td>\n",
       "      <td>Pending</td>\n",
       "      <td>762.24</td>\n",
       "      <td>False</td>\n",
       "    </tr>\n",
       "  </tbody>\n",
       "</table>\n",
       "</div>"
      ],
      "text/plain": [
       "   OrderID           OrderDate EstimatedDeliveryTime  DiscountApplied  \\\n",
       "0        1 2024-10-14 18:01:10   2024-10-14 18:45:10            False   \n",
       "1        2 2024-10-14 18:02:04   2024-10-14 18:46:04             True   \n",
       "2        3 2024-10-14 18:02:10   2024-10-14 22:04:10             True   \n",
       "\n",
       "  DeliveryPersonID  CustomerID OrderStatus  TotalPrice  IsGrouped  \n",
       "0             None           3     Pending      109.92      False  \n",
       "1             None           3     Pending      230.69      False  \n",
       "2             None           3     Pending      762.24      False  "
      ]
     },
     "execution_count": 2,
     "metadata": {},
     "output_type": "execute_result"
    }
   ],
   "source": [
    "get_financial_summary(month=\"October\", age_group=\"15-25\")"
   ]
  },
  {
   "cell_type": "code",
   "execution_count": 3,
   "metadata": {},
   "outputs": [
    {
     "name": "stdout",
     "output_type": "stream",
     "text": [
      "2024-10-14 18:03:30,586 INFO sqlalchemy.engine.Engine BEGIN (implicit)\n",
      "2024-10-14 18:03:30,586 INFO sqlalchemy.engine.Engine SELECT orders.`OrderID` AS `orders_OrderID`, orders.`CustomerID` AS `orders_CustomerID`, orders.`OrderDate` AS `orders_OrderDate`, orders.`OrderStatus` AS `orders_OrderStatus`, orders.`EstimatedDeliveryTime` AS `orders_EstimatedDeliveryTime`, orders.`TotalPrice` AS `orders_TotalPrice`, orders.`DiscountApplied` AS `orders_DiscountApplied`, orders.`IsGrouped` AS `orders_IsGrouped`, orders.`DeliveryPersonID` AS `orders_DeliveryPersonID` \n",
      "FROM orders \n",
      "WHERE orders.`OrderStatus` = %(OrderStatus_1)s\n",
      "2024-10-14 18:03:30,587 INFO sqlalchemy.engine.Engine [cached since 54.29s ago] {'OrderStatus_1': 'Preparing'}\n",
      "2024-10-14 18:03:30,588 INFO sqlalchemy.engine.Engine ROLLBACK\n",
      "2024-10-14 18:03:30,589 INFO sqlalchemy.engine.Engine BEGIN (implicit)\n",
      "2024-10-14 18:03:30,590 INFO sqlalchemy.engine.Engine SELECT orders.`OrderID` AS `orders_OrderID`, orders.`CustomerID` AS `orders_CustomerID`, orders.`OrderDate` AS `orders_OrderDate`, orders.`OrderStatus` AS `orders_OrderStatus`, orders.`EstimatedDeliveryTime` AS `orders_EstimatedDeliveryTime`, orders.`TotalPrice` AS `orders_TotalPrice`, orders.`DiscountApplied` AS `orders_DiscountApplied`, orders.`IsGrouped` AS `orders_IsGrouped`, orders.`DeliveryPersonID` AS `orders_DeliveryPersonID` \n",
      "FROM orders \n",
      "WHERE orders.`OrderStatus` = %(OrderStatus_1)s\n",
      "2024-10-14 18:03:30,590 INFO sqlalchemy.engine.Engine [cached since 54.3s ago] {'OrderStatus_1': 'Preparing'}\n",
      "2024-10-14 18:03:30,592 INFO sqlalchemy.engine.Engine ROLLBACK\n"
     ]
    },
    {
     "ename": "KeyboardInterrupt",
     "evalue": "",
     "output_type": "error",
     "traceback": [
      "\u001b[1;31m---------------------------------------------------------------------------\u001b[0m",
      "\u001b[1;31mKeyboardInterrupt\u001b[0m                         Traceback (most recent call last)",
      "Cell \u001b[1;32mIn[3], line 7\u001b[0m\n\u001b[0;32m      5\u001b[0m \u001b[38;5;28;01mif\u001b[39;00m \u001b[38;5;129;01mnot\u001b[39;00m df\u001b[38;5;241m.\u001b[39mempty:\n\u001b[0;32m      6\u001b[0m     display(df\u001b[38;5;241m.\u001b[39mhead())\n\u001b[1;32m----> 7\u001b[0m \u001b[43mtime\u001b[49m\u001b[38;5;241;43m.\u001b[39;49m\u001b[43msleep\u001b[49m\u001b[43m(\u001b[49m\u001b[38;5;241;43m3\u001b[39;49m\u001b[43m)\u001b[49m\n",
      "\u001b[1;31mKeyboardInterrupt\u001b[0m: "
     ]
    }
   ],
   "source": [
    "for i in range(1, 10000):\n",
    "    clear_output(wait=True)\n",
    "    orders = get_orders_by_status('Preparing')\n",
    "    df = orders_to_pizzas()  # Ensure orders_to_pizzas() processes 'orders' and returns a DataFrame\n",
    "    if not df.empty:\n",
    "        display(df.head())\n",
    "    time.sleep(3)\n",
    "    "
   ]
  }
 ],
 "metadata": {
  "kernelspec": {
   "display_name": "Python 3",
   "language": "python",
   "name": "python3"
  },
  "language_info": {
   "codemirror_mode": {
    "name": "ipython",
    "version": 3
   },
   "file_extension": ".py",
   "mimetype": "text/x-python",
   "name": "python",
   "nbconvert_exporter": "python",
   "pygments_lexer": "ipython3",
   "version": "3.10.11"
  }
 },
 "nbformat": 4,
 "nbformat_minor": 2
}
